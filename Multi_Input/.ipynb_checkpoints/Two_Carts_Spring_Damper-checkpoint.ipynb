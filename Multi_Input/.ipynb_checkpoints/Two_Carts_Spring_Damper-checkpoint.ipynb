{
 "cells": [
  {
   "cell_type": "code",
   "execution_count": 84,
   "metadata": {
    "collapsed": true
   },
   "outputs": [],
   "source": [
    "from sympy import symbols, init_printing\n",
    "import sympy\n",
    "import sympy.physics.mechanics as me\n",
    "from pydy.system import System\n",
    "import matplotlib as mpl\n",
    "import matplotlib.pyplot as plt\n",
    "import numpy as np\n",
    "%matplotlib inline\n",
    "# init_printing(False)\n",
    "init_printing(True)\n",
    "from IPython.display import set_matplotlib_formats\n",
    "import InputShaping as shaping\n",
    "set_matplotlib_formats('retina')"
   ]
  },
  {
   "cell_type": "code",
   "execution_count": 85,
   "metadata": {
    "collapsed": true
   },
   "outputs": [],
   "source": [
    "# Create the Main Frame\n",
    "A = me.ReferenceFrame('A')\n",
    "\n",
    "# Create the symbols\n",
    "x1, x2, f1, f2 = me.dynamicsymbols('x_1 x_2 f_1 f_2')\n",
    "x1_dot, x2_dot = me.dynamicsymbols('x1_dot x2_dot')\n",
    "\n",
    "m1, m2, t, g, k, c = sympy.symbols('m_1 m_2 t g k c')"
   ]
  },
  {
   "cell_type": "code",
   "execution_count": 86,
   "metadata": {
    "collapsed": true
   },
   "outputs": [],
   "source": [
    "# Create the Origin\n",
    "Origin = me.Point('Origin')\n",
    "Origin.set_pos(Origin, 0)\n",
    "Origin.set_vel(A, 0)\n",
    "\n",
    "# Create the Trolley Points\n",
    "P1 = me.Point('P1')\n",
    "P2 = me.Point('P2')\n",
    "\n",
    "# Set the Trolley Points Positions\n",
    "P1.set_pos(Origin, x1 * A.x)\n",
    "P2.set_pos(Origin, x2 * A.x)\n",
    "\n",
    "# Set the Velocity of the Trolley Points\n",
    "P1.set_vel(A, x1_dot * A.x)\n",
    "P2.set_vel(A, x2_dot * A.x)\n",
    "\n",
    "# Set up the kinematic differential equations\n",
    "kde = [x1_dot - x1.diff(t),\n",
    "       x2_dot - x2.diff(t)]\n",
    "\n",
    "# Create the Particles\n",
    "cart1 = me.Particle('cart1', P1, m1)\n",
    "cart2 = me.Particle('cart2', P2, m2)"
   ]
  },
  {
   "cell_type": "code",
   "execution_count": 87,
   "metadata": {
    "collapsed": false
   },
   "outputs": [],
   "source": [
    "cart1_spring = (P1, k * (x2 - x1) * A.x)\n",
    "cart2_spring = (P2, k * (x1 - x2) * A.x)\n",
    "\n",
    "cart1_damper = (P1, c * (x2_dot - x1_dot) * A.x)\n",
    "cart2_damper = (P2, c * (x1_dot - x2_dot) * A.x)\n",
    "\n",
    "cart_force1 = (P1, (f1 + (0.5*f2)) * A.x)\n",
    "cart_force2 = (P2, ((f1*0.5) + f2) * A.x)\n",
    "\n",
    "loads = [cart_force1,\n",
    "         cart_force2,\n",
    "        cart1_spring,\n",
    "        cart2_spring,\n",
    "        cart1_damper,\n",
    "        cart2_damper]"
   ]
  },
  {
   "cell_type": "code",
   "execution_count": 88,
   "metadata": {
    "collapsed": true
   },
   "outputs": [],
   "source": [
    "# Setting up the coordinates, speeds, and creating KanesMethod\n",
    "coordinates = [x1, x2]\n",
    "speeds = [x1_dot, x2_dot]\n",
    "kane = me.KanesMethod(A, coordinates, speeds, kde)\n",
    "\n",
    "# Creating Fr and Fr_star\n",
    "fr, frstar = kane.kanes_equations(loads, [cart1, cart2])\n",
    "\n",
    "# Creating the PyDy System\n",
    "sys = System(kane)  "
   ]
  },
  {
   "cell_type": "code",
   "execution_count": 101,
   "metadata": {
    "collapsed": true
   },
   "outputs": [],
   "source": [
    "op_point = {x1:0,\n",
    "            x2:0,\n",
    "            x1_dot:0,\n",
    "            x2_dot:0}\n",
    "\n",
    "constants = {m1: 1,\n",
    "             m2: 1,\n",
    "             k: 10,\n",
    "             c: 1}"
   ]
  },
  {
   "cell_type": "code",
   "execution_count": 102,
   "metadata": {
    "collapsed": true
   },
   "outputs": [],
   "source": [
    "linearizer = kane.to_linearizer()\n",
    "Maz, A, B = linearizer.linearize()\n",
    "M_op = me.msubs(Maz, op_point)\n",
    "A_op = me.msubs(A, op_point)\n",
    "B_op = me.msubs(B, op_point)\n",
    "\n",
    "perm_mat = linearizer.perm_mat\n",
    "A_lin = perm_mat.T * M_op.LUsolve(A_op)\n",
    "B_lin = perm_mat.T * M_op.LUsolve(B_op)\n",
    "\n",
    "A_lin_constants = me.msubs(A_lin, constants)\n",
    "B_lin_constants = me.msubs(B_lin, constants)\n",
    "A_sol = A_lin_constants.subs(op_point).doit()\n",
    "B_sol = B_lin_constants.subs(op_point).doit()\n",
    "\n",
    "A_np = np.array(np.array(A_sol), np.float)\n",
    "B_np = np.array(np.array(B_sol), np.float)\n",
    "\n",
    "eigenvals, eigenvects = np.linalg.eig(A_np)\n",
    "eigen = eigenvals[0:9:2]\n",
    "eigen_abs = np.abs(eigen)\n",
    "damp = np.abs(np.real(eigen)/eigen_abs)"
   ]
  },
  {
   "cell_type": "code",
   "execution_count": 104,
   "metadata": {
    "collapsed": false
   },
   "outputs": [
    {
     "data": {
      "image/png": "[encoded data removed]",
      "text/latex": [
       "$$\\left[\\begin{matrix}0.0 & 0.0 & 1.0 & 0.0\\\\0.0 & 0.0 & 0.0 & 1.0\\\\-10.0 & 10.0 & -1.0 & 1.0\\\\10.0 & -10.0 & 1.0 & -1.0\\end{matrix}\\right]$$"
      ],
      "text/plain": [
       "⎡ 0.0    0.0   1.0   0.0 ⎤\n",
       "⎢                        ⎥\n",
       "⎢ 0.0    0.0   0.0   1.0 ⎥\n",
       "⎢                        ⎥\n",
       "⎢-10.0  10.0   -1.0  1.0 ⎥\n",
       "⎢                        ⎥\n",
       "⎣10.0   -10.0  1.0   -1.0⎦"
      ]
     },
     "execution_count": 104,
     "metadata": {},
     "output_type": "execute_result"
    }
   ],
   "source": [
    "sympy.Matrix(A_np.round(2))"
   ]
  },
  {
   "cell_type": "code",
   "execution_count": 97,
   "metadata": {
    "collapsed": false
   },
   "outputs": [
    {
     "data": {
      "text/plain": [
       "array([[ 0.0000,  0.0000,  1.0000,  0.0000],\n",
       "       [ 0.0000,  0.0000,  0.0000,  1.0000],\n",
       "       [-10.0000,  10.0000, -1.0000,  1.0000],\n",
       "       [ 10.0000, -10.0000,  1.0000, -1.0000]])"
      ]
     },
     "execution_count": 97,
     "metadata": {},
     "output_type": "execute_result"
    }
   ],
   "source": [
    "A_np"
   ]
  },
  {
   "cell_type": "code",
   "execution_count": null,
   "metadata": {
    "collapsed": true
   },
   "outputs": [],
   "source": []
  }
 ],
 "metadata": {
  "kernelspec": {
   "display_name": "Python 3",
   "language": "python",
   "name": "python3"
  },
  "language_info": {
   "codemirror_mode": {
    "name": "ipython",
    "version": 3
   },
   "file_extension": ".py",
   "mimetype": "text/x-python",
   "name": "python",
   "nbconvert_exporter": "python",
   "pygments_lexer": "ipython3",
   "version": "3.5.2"
  }
 },
 "nbformat": 4,
 "nbformat_minor": 0
}
