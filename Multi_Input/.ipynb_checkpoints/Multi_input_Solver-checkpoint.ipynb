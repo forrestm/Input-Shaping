{
 "cells": [
  {
   "cell_type": "code",
   "execution_count": 2,
   "metadata": {},
   "outputs": [],
   "source": [
    "from sympy import symbols, init_printing\n",
    "import sympy\n",
    "import sympy.physics.mechanics as me\n",
    "from pydy.system import System\n",
    "import matplotlib as mpl\n",
    "import matplotlib.pyplot as plt\n",
    "import numpy as np\n",
    "%matplotlib inline\n",
    "# init_printing(False)\n",
    "init_printing(True)\n",
    "from IPython.display import set_matplotlib_formats\n",
    "set_matplotlib_formats('retina')\n",
    "import itable\n",
    "import pandas as pd"
   ]
  },
  {
   "cell_type": "markdown",
   "metadata": {},
   "source": [
    "These equations were created using \"Multi-input shaping design for vibration reduction\" by Lucy Y. Pao\n",
    "In her paper n, m, and l use zero indexing like python which can lead to some confusion. So for this solver, subtract 1 from the actual number of variables. For example:\n",
    "* 6 state variables and 2 inputs: $$\n",
    "\\begin{bmatrix} \n",
    "x_1 \\\\ \n",
    "x_2 \\\\ \n",
    "\\theta \\\\ \n",
    "\\dot{x_1} \\\\ \n",
    "\\dot{x_2} \\\\\n",
    "\\dot{\\theta}\n",
    "\\end{bmatrix}$$\n",
    "* $n=2$ \n",
    "* $m=1$"
   ]
  },
  {
   "cell_type": "code",
   "execution_count": 75,
   "metadata": {},
   "outputs": [],
   "source": [
    "n = int(2)\n",
    "m = int(1)\n",
    "l = int(np.ceil((2*n) / (m + 1)))\n",
    "\n",
    "n_matrix = np.arange(0,(n+1)).reshape((n+1,1))\n",
    "m_matrix = np.arange(0,m+1).reshape((m+1,1))\n",
    "l_matrix = np.arange(0,l+1).reshape((l+1,1))\n",
    "star = np.array([[0],[1]])\n",
    "\n",
    "# Manually fill in your eigenvalues and their conjugates\n",
    "s = np.zeros((n+1,2), dtype=np.complex_)\n",
    "# s_star = np.zeros((n+1,1), dtype=np.complex_)\n",
    "\n",
    "s[0,0] = np.complex(0,0)\n",
    "s[1,0] = np.complex(-0.1,9.9995)\n",
    "s[2,0] = np.complex(-0.36,17.9964)\n",
    "# s[0,3] = np.complex(0,0)\n",
    "# s[0,4] = np.complex(0,0)\n",
    "\n",
    "s[0,1] = np.conjugate(s[0,0])\n",
    "s[1,1] = np.conjugate(s[1,0])\n",
    "s[2,1] = np.conjugate(s[2,0])\n",
    "# s_star[0,3] = np.conjugate(s[3,0])\n",
    "# s_star[0,4] = np.conjugate(s[4,0])"
   ]
  },
  {
   "cell_type": "code",
   "execution_count": 21,
   "metadata": {
    "collapsed": true
   },
   "outputs": [],
   "source": [
    "g = np.zeros(((n+1), m+1))\n",
    "g[0,0] = 1\n",
    "g[1,0] = 2\n",
    "g[2,0] = 1\n",
    "# g[3,0] = -206.311330965075\n",
    "# g[4,0] = 44.5043856793014\n",
    "\n",
    "g[0,1] = 1.5\n",
    "g[1,1] = 1\n",
    "g[2,1] = 1\n",
    "# g[3,1] = 31.3590897937735\n",
    "# g[4,1] = -41.1508965795407"
   ]
  },
  {
   "cell_type": "code",
   "execution_count": 102,
   "metadata": {},
   "outputs": [
    {
     "data": {
      "text/plain": [
       "array([ 1.+0.j])"
      ]
     },
     "execution_count": 102,
     "metadata": {},
     "output_type": "execute_result"
    }
   ],
   "source": [
    "#P[n_matrix[0],m_matrix[0]+star[0]]\n",
    "g[m_matrix[0],n_matrix[0]] * np.exp(-s[n_matrix[0],jj] * l_matrix[0])"
   ]
  },
  {
   "cell_type": "code",
   "execution_count": 101,
   "metadata": {},
   "outputs": [
    {
     "name": "stderr",
     "output_type": "stream",
     "text": [
      "//anaconda/lib/python3.5/site-packages/ipykernel/__main__.py:8: ComplexWarning: Casting complex values to real discards the imaginary part\n"
     ]
    },
    {
     "ename": "IndexError",
     "evalue": "index 2 is out of bounds for axis 1 with size 2",
     "output_type": "error",
     "traceback": [
      "\u001b[0;31m---------------------------------------------------------------------------\u001b[0m",
      "\u001b[0;31mIndexError\u001b[0m                                Traceback (most recent call last)",
      "\u001b[0;32m<ipython-input-101-be196f7040fc>\u001b[0m in \u001b[0;36m<module>\u001b[0;34m()\u001b[0m\n\u001b[1;32m      6\u001b[0m         \u001b[0;32mfor\u001b[0m \u001b[0mj\u001b[0m \u001b[0;32min\u001b[0m \u001b[0mrange\u001b[0m\u001b[0;34m(\u001b[0m\u001b[0ml\u001b[0m\u001b[0;34m+\u001b[0m\u001b[0;36m1\u001b[0m\u001b[0;34m)\u001b[0m\u001b[0;34m:\u001b[0m\u001b[0;34m\u001b[0m\u001b[0m\n\u001b[1;32m      7\u001b[0m             \u001b[0;32mfor\u001b[0m \u001b[0mjj\u001b[0m \u001b[0;32min\u001b[0m \u001b[0mrange\u001b[0m\u001b[0;34m(\u001b[0m\u001b[0;36m2\u001b[0m\u001b[0;34m)\u001b[0m\u001b[0;34m:\u001b[0m\u001b[0;34m\u001b[0m\u001b[0m\n\u001b[0;32m----> 8\u001b[0;31m                 \u001b[0mP\u001b[0m\u001b[0;34m[\u001b[0m\u001b[0mn_matrix\u001b[0m\u001b[0;34m[\u001b[0m\u001b[0mii\u001b[0m\u001b[0;34m]\u001b[0m\u001b[0;34m,\u001b[0m\u001b[0mm_matrix\u001b[0m\u001b[0;34m[\u001b[0m\u001b[0miii\u001b[0m\u001b[0;34m]\u001b[0m\u001b[0;34m+\u001b[0m\u001b[0mstar\u001b[0m\u001b[0;34m[\u001b[0m\u001b[0mjj\u001b[0m\u001b[0;34m]\u001b[0m\u001b[0;34m]\u001b[0m \u001b[0;34m=\u001b[0m \u001b[0mg\u001b[0m\u001b[0;34m[\u001b[0m\u001b[0mm_matrix\u001b[0m\u001b[0;34m[\u001b[0m\u001b[0miii\u001b[0m\u001b[0;34m]\u001b[0m\u001b[0;34m,\u001b[0m\u001b[0mn_matrix\u001b[0m\u001b[0;34m[\u001b[0m\u001b[0mii\u001b[0m\u001b[0;34m]\u001b[0m\u001b[0;34m]\u001b[0m \u001b[0;34m*\u001b[0m \u001b[0mnp\u001b[0m\u001b[0;34m.\u001b[0m\u001b[0mexp\u001b[0m\u001b[0;34m(\u001b[0m\u001b[0;34m-\u001b[0m\u001b[0ms\u001b[0m\u001b[0;34m[\u001b[0m\u001b[0mn_matrix\u001b[0m\u001b[0;34m[\u001b[0m\u001b[0mii\u001b[0m\u001b[0;34m]\u001b[0m\u001b[0;34m,\u001b[0m\u001b[0mstar\u001b[0m\u001b[0;34m[\u001b[0m\u001b[0mjj\u001b[0m\u001b[0;34m]\u001b[0m\u001b[0;34m]\u001b[0m \u001b[0;34m*\u001b[0m \u001b[0ml_matrix\u001b[0m\u001b[0;34m[\u001b[0m\u001b[0mj\u001b[0m\u001b[0;34m]\u001b[0m\u001b[0;34m)\u001b[0m\u001b[0;34m\u001b[0m\u001b[0m\n\u001b[0m",
      "\u001b[0;31mIndexError\u001b[0m: index 2 is out of bounds for axis 1 with size 2"
     ]
    }
   ],
   "source": [
    "steps = np.linspace(0,1,10000)\n",
    "# for i in range(10000):\n",
    "#     T = steps[i]\n",
    "for ii in range(n+1):\n",
    "    for iii in range(m+1):\n",
    "        for j in range(l+1):\n",
    "            for jj in range(2):\n",
    "                P[n_matrix[ii],m_matrix[iii]+star[jj]] = g[m_matrix[iii],n_matrix[ii]] * np.exp(-s[n_matrix[ii],jj] * l_matrix[j])"
   ]
  },
  {
   "cell_type": "code",
   "execution_count": 103,
   "metadata": {},
   "outputs": [
    {
     "data": {
      "text/plain": [
       "array([[ 1.        ,  2.        ,  2.        ,  0.        ,  0.        ,\n",
       "         0.        ],\n",
       "       [ 0.74932107,  0.49954738,  0.49954738,  0.        ,  0.        ,\n",
       "         0.        ],\n",
       "       [ 0.        ,  0.        ,  0.        ,  0.        ,  0.        ,\n",
       "         0.        ],\n",
       "       [ 0.        ,  0.        ,  0.        ,  0.        ,  0.        ,\n",
       "         0.        ],\n",
       "       [ 0.        ,  0.        ,  0.        ,  0.        ,  0.        ,\n",
       "         0.        ],\n",
       "       [ 0.        ,  0.        ,  0.        ,  0.        ,  0.        ,\n",
       "         0.        ],\n",
       "       [ 0.        ,  0.        ,  0.        ,  0.        ,  0.        ,\n",
       "         0.        ],\n",
       "       [ 0.        ,  0.        ,  0.        ,  0.        ,  0.        ,\n",
       "         0.        ]])"
      ]
     },
     "execution_count": 103,
     "metadata": {},
     "output_type": "execute_result"
    }
   ],
   "source": [
    "P"
   ]
  },
  {
   "cell_type": "code",
   "execution_count": 30,
   "metadata": {
    "collapsed": true
   },
   "outputs": [],
   "source": [
    "w = np.vstack((np.zeros((2*(n+1),1)), np.ones(((m+1),1))))\n",
    "P = np.zeros((np.shape(w)[0],(l+1)*(m+1)))\n",
    "a_full = np.zeros(((l+1)*(m+1),1))\n",
    "steps = np.linspace(0,1,10000)\n",
    "for i in range(10000):\n",
    "    T = steps[i]\n",
    "#     P = \n",
    "#     P_inv = np.linalg.pinv(P)\n",
    "#     w = np.array([[0],[0],[0],[0],[0],[0],[0],[0],[0],[0],[1],[1]])\n",
    "#     a = np.dot(P_inv,w)\n",
    "#     a_row = np.real(a.reshape(1,12))\n",
    "#     a_full = np.vstack((a_full, a_row))\n",
    "# a_full = np.delete(a_full,0,0)\n",
    "# index=np.array([0])\n",
    "# sometimes the first few values are really high positives, so alter this to skip those"
   ]
  },
  {
   "cell_type": "code",
   "execution_count": null,
   "metadata": {
    "collapsed": true
   },
   "outputs": [],
   "source": []
  }
 ],
 "metadata": {
  "kernelspec": {
   "display_name": "Python 3",
   "language": "python",
   "name": "python3"
  },
  "language_info": {
   "codemirror_mode": {
    "name": "ipython",
    "version": 3
   },
   "file_extension": ".py",
   "mimetype": "text/x-python",
   "name": "python",
   "nbconvert_exporter": "python",
   "pygments_lexer": "ipython3",
   "version": "3.6.1"
  }
 },
 "nbformat": 4,
 "nbformat_minor": 1
}
