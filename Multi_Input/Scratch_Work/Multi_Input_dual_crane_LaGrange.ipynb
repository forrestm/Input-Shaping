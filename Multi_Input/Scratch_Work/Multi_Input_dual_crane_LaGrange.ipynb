{
 "cells": [
  {
   "cell_type": "code",
   "execution_count": 42,
   "metadata": {
    "collapsed": true
   },
   "outputs": [],
   "source": [
    "from sympy import symbols, init_printing\n",
    "import sympy\n",
    "import sympy.physics.mechanics as me\n",
    "import matplotlib as mpl\n",
    "import matplotlib.pyplot as plt\n",
    "import numpy as np\n",
    "# import the ode ODE solver\n",
    "from scipy.integrate import ode\n",
    "%matplotlib inline\n",
    "# init_printing(False)\n",
    "init_printing(True)\n",
    "from IPython.display import set_matplotlib_formats\n",
    "set_matplotlib_formats('retina')"
   ]
  },
  {
   "cell_type": "code",
   "execution_count": 14,
   "metadata": {
    "collapsed": true
   },
   "outputs": [],
   "source": [
    "# Define the state variables and their derivatives\n",
    "x1, x2, theta1, theta2 = me.dynamicsymbols('x_1 x_2 theta_1 theta2')\n",
    "x1_dot, x2_dot = me.dynamicsymbols('x_1 x_2', 1)\n",
    "theta1_dot, theta2_dot = me.dynamicsymbols('theta_1 theta2', 1)\n",
    "f1, f2 = me.dynamicsymbols('f1 f2')\n",
    "\n",
    "# Define the constants\n",
    "cart1_mass, cart2_mass, m1, m2 = sympy.symbols('cart1_mass cart2_mass m1 m2')\n",
    "M = sympy.symbols('M')\n",
    "g, L1, L2, L3, t, I = sympy.symbols('g L1 L2 L3 t I')"
   ]
  },
  {
   "cell_type": "code",
   "execution_count": 35,
   "metadata": {
    "collapsed": false
   },
   "outputs": [],
   "source": [
    "# Define the Outer fixed Frame\n",
    "A = me.ReferenceFrame('A')\n",
    "\n",
    "# Define the first pendulum frame\n",
    "B = A.orientnew('B', 'Axis', [theta1, A.z])\n",
    "\n",
    "# Define the second pendulum frame\n",
    "C = A.orientnew('C', 'Axis', [theta2, A.z])\n",
    "\n",
    "# The cart points and velocities\n",
    "C1 = me.Point('C1')\n",
    "C2 = me.Point('C2')\n",
    "C1.set_pos(C2, (x2 - x1) * A.x )\n",
    "C1.set_vel(A, x1_dot * A.x)\n",
    "C2.set_vel(A, x2_dot * A.x)\n",
    "\n",
    "# Create Particles of the carts\n",
    "Cart1 = me.Particle('Cart1', C1, cart1_mass)\n",
    "Cart2 = me.Particle('Cart2', C2, cart2_mass)\n",
    "\n",
    "# The hook point locations\n",
    "P1 = C1.locatenew('P1', -L1 * B.y)\n",
    "P2 = C2.locatenew('P2', -L2 * C.y)\n",
    "\n",
    "# Create the L3 relation\n",
    "P2_vector_P1 = P2.pos_from(P1).normalize()\n",
    "P1.set_pos(P2, P2_vector_P1 * L3)\n",
    "\n",
    "# Set the hook velocities\n",
    "P1.v2pt_theory(C1, A, B)\n",
    "P2.v2pt_theory(C2, A, C)\n",
    "\n",
    "# Create the hook particles\n",
    "hook1 = me.Particle('hook1', P1, m1)\n",
    "hook2 = me.Particle('hook2', P2, m2)\n",
    "\n",
    "# Create the Payload center of mass\n",
    "P3 = P1.locatenew('P3', P2_vector_P1 * (L3/2))\n",
    "P3.v2pt_theory(P2, A, A)\n",
    "\n",
    "# Create the plate inertial tensor\n",
    "I_Payload = me.inertia(A, 0, 0, I)\n",
    "inertia_Payload = (I_Payload, P3)\n",
    "\n",
    "# Create the Payload Rigid Body\n",
    "Payload = me.RigidBody('Payload', P3, A, M, inertia_Payload)"
   ]
  },
  {
   "cell_type": "code",
   "execution_count": 36,
   "metadata": {
    "collapsed": false
   },
   "outputs": [],
   "source": [
    "hook1.potential_energy = (-m1 * g * L1 * sympy.cos(theta1))\n",
    "hook2.potential_energy = (-m2 * g * L2 * sympy.cos(theta2))\n",
    "Payload.potential_energy = (-M * g * L3 * (C1.pos_from(P3).express(A) & A.y))"
   ]
  },
  {
   "cell_type": "code",
   "execution_count": 41,
   "metadata": {
    "collapsed": false
   },
   "outputs": [],
   "source": [
    "forces = [(C1, f1 * A.x),\n",
    "          (C2, f2 * A.x)]\n",
    "\n",
    "# Form the Lagrangian, then simplify and print\n",
    "L = me.Lagrangian(A, hook1, hook2, Payload)\n",
    "LM = me.LagrangesMethod(L, [x1, x2, theta1, theta2],\n",
    "                        forcelist = forces, frame = A)\n",
    "LM.form_lagranges_equations()\n",
    "lrhs = LM.rhs()"
   ]
  },
  {
   "cell_type": "code",
   "execution_count": 45,
   "metadata": {
    "collapsed": true
   },
   "outputs": [],
   "source": [
    "# define the forcing function\n",
    "def force(t):\n",
    "    # set the maximum force output\n",
    "    fmax = 10.0\n",
    "    \n",
    "    # return a bang-bang command\n",
    "    return fmax * ((t > 0.25) - 2 * (t >= 1.25) + (t >= 2.25))"
   ]
  },
  {
   "cell_type": "code",
   "execution_count": 49,
   "metadata": {
    "collapsed": false
   },
   "outputs": [],
   "source": [
    "# Define the states and state vector\n",
    "w1, w2, w3, w4, w5, w6, w7, w8 = sympy.symbols('w1 w2 w3 w4 w5 w6 w7 w8',\n",
    "                                               cls=sympy.Function)\n",
    "w = [w1(t), w2(t), w3(t), w4(t), w5(t), w6(t), w7(t), w8(t)]\n",
    "\n",
    "# Set up the state definitions and parameter substitution\n",
    "sub_params = {x1 : w1(t),\n",
    "              x2 : w2(t), \n",
    "              theta1 : w3(t),\n",
    "              theta2 : w4(t),\n",
    "              x1_dot : w5(t),\n",
    "              x2_dot : w6(t), \n",
    "              theta1_dot : w7(t),\n",
    "              theta2_dot : w8(t),\n",
    "              cart1_mass: 100,\n",
    "              cart2_mass: 100,\n",
    "              m1: 2,\n",
    "              m2: 2,\n",
    "              M: 1,\n",
    "              g: 9.81, \n",
    "              L1: 2, \n",
    "              L2: 1, \n",
    "              L3: 3,\n",
    "              I: (1 * 3**2) / 12,\n",
    "              f1: force(t),\n",
    "              f2: force(t)}\n",
    "\n",
    "# set this parameter to enable array output from sympy.lambdify\n",
    "mat2array = [{'ImmutableMatrix': np.array}, 'numpy']\n",
    "\n",
    "# Create a function from the equations of motion\n",
    "# Here, we substitude the states and parameters as appropriate prior to the lamdification\n",
    "eq_of_motion = sympy.lambdify((t, w), \n",
    "                              lrhs.subs(sub_params), \n",
    "                              modules = mat2array)\n",
    "\n",
    "# Set up the initial conditions for the solver\n",
    "x1_init = 0.0                   # Initial trolley position (m)\n",
    "x2_init = 2.8284\n",
    "x1_dot_init = 0.0               # Initial trolley velocity (m/s)\n",
    "x2_dot_init = 0.0\n",
    "theta1_init = 0.0 * np.pi/180   # Initial angle (rad)\n",
    "theta2_init = 0.0 * np.pi/180\n",
    "theta1_dot_init = 0.0           # Initial angular velocity (rad/s)\n",
    "theta2_dot_init = 0.0  \n",
    "\n",
    "# Pack the initial conditions into an array\n",
    "x0 = [x1_init,\n",
    "      x2_init,\n",
    "      theta1_init,\n",
    "      theta2_init,\n",
    "      x1_dot_init,\n",
    "      x2_dot_init,\n",
    "      theta1_dot_init,\n",
    "      theta2_dot_init]\n",
    "\n",
    "# Create the time samples for the output of the ODE solver\n",
    "sim_time = np.linspace(0.0, 10.0, 1001) # 0-10s with 1001 points in between"
   ]
  },
  {
   "cell_type": "code",
   "execution_count": 50,
   "metadata": {
    "collapsed": false
   },
   "outputs": [
    {
     "name": "stderr",
     "output_type": "stream",
     "text": [
      "//anaconda/lib/python3.5/site-packages/numpy/__init__.py:1: RuntimeWarning: divide by zero encountered in double_scalars\n",
      "  \"\"\"\n",
      "//anaconda/lib/python3.5/site-packages/scipy/integrate/_ode.py:869: UserWarning: vode: Repeated convergence failures. (Perhaps bad Jacobian supplied or wrong choice of MF or tolerances.)\n",
      "  'Unexpected istate=%s' % istate))\n"
     ]
    }
   ],
   "source": [
    "# Set up the initial point for the ode solver\n",
    "r = ode(eq_of_motion).set_initial_value(x0, sim_time[0])\n",
    " \n",
    "# define the sample time\n",
    "dt = sim_time[1] - sim_time[0]   \n",
    "\n",
    "# pre-populate the response array with zeros\n",
    "response = np.zeros((len(sim_time), len(x0)))\n",
    "\n",
    "# Set the initial index to 0\n",
    "index = 0\n",
    "\n",
    "# Now, numerically integrate the ODE while:\n",
    "#   1. the last step was successful\n",
    "#   2. the current time is less than the desired simluation end time\n",
    "while r.successful() and r.t < sim_time[-1]:\n",
    "    response[index, :] = r.y\n",
    "    r.integrate(r.t + dt)\n",
    "    index += 1"
   ]
  },
  {
   "cell_type": "code",
   "execution_count": null,
   "metadata": {
    "collapsed": true
   },
   "outputs": [],
   "source": []
  }
 ],
 "metadata": {
  "kernelspec": {
   "display_name": "Python 3",
   "language": "python",
   "name": "python3"
  },
  "language_info": {
   "codemirror_mode": {
    "name": "ipython",
    "version": 3
   },
   "file_extension": ".py",
   "mimetype": "text/x-python",
   "name": "python",
   "nbconvert_exporter": "python",
   "pygments_lexer": "ipython3",
   "version": "3.5.2"
  }
 },
 "nbformat": 4,
 "nbformat_minor": 0
}
