{
 "cells": [
  {
   "cell_type": "code",
   "execution_count": 1,
   "metadata": {
    "collapsed": true
   },
   "outputs": [],
   "source": [
    "from sympy import symbols, init_printing\n",
    "import sympy\n",
    "import sympy.physics.mechanics as me\n",
    "from pydy.system import System\n",
    "import matplotlib as mpl\n",
    "import matplotlib.pyplot as plt\n",
    "import numpy as np\n",
    "%matplotlib inline\n",
    "# init_printing(False)\n",
    "init_printing(True)\n",
    "from IPython.display import set_matplotlib_formats\n",
    "import InputShaping as shaping\n",
    "set_matplotlib_formats('retina')"
   ]
  },
  {
   "cell_type": "code",
   "execution_count": 2,
   "metadata": {
    "collapsed": true
   },
   "outputs": [],
   "source": [
    "# Constants\n",
    "Length_1 = 2\n",
    "Length_2 = 1\n",
    "Length_3 = 3\n",
    "Mass = 2.3\n",
    "\n",
    "def s_curve(CurrTime, Begin, Amp, RiseTime, StartTime):\n",
    "    \"\"\"\n",
    "    This was copied from Dr. Vaughan's Input shaping Library\n",
    "    I edited it to allow for a beginning value.\n",
    "\n",
    "    Function to generate an s-curve command\n",
    "\n",
    "    Arguments:\n",
    "      CurrTime : The current timestep or an array of times\n",
    "      Amp : The magnitude of the s-curve (or final setpoint)\n",
    "      RiseTime : The rise time of the curve\n",
    "      StartTime : The time that the command should StartTime\n",
    "      Begin : The beginnning value\n",
    "\n",
    "    Returns :\n",
    "      The command at the current timestep or an array representing the command\n",
    "      over the times given (if CurrTime was an array)\n",
    "    \"\"\"\n",
    "\n",
    "    Amp = Amp - Begin\n",
    "    scurve = (2.0 * ((CurrTime - StartTime)/RiseTime)**2 *\n",
    "    (CurrTime-StartTime >= 0) * (CurrTime-StartTime < RiseTime/2)\n",
    "    +(-2.0 * ((CurrTime - StartTime)/RiseTime)**2 + 4.0 * ((CurrTime -\n",
    "    StartTime)/RiseTime) - 1.0) * (CurrTime-StartTime >= RiseTime/2) *\n",
    "    (CurrTime-StartTime < RiseTime) + 1.0 * (CurrTime-StartTime >= RiseTime))\n",
    "\n",
    "    return (Amp * scurve) + Begin"
   ]
  },
  {
   "cell_type": "code",
   "execution_count": 3,
   "metadata": {
    "collapsed": true
   },
   "outputs": [],
   "source": [
    "# Create the Main Frame\n",
    "A = me.ReferenceFrame('A')\n",
    "\n",
    "# Create the symbols\n",
    "x1, x2, f1, f2 = me.dynamicsymbols('x_1 x_2 f_1 f_2')\n",
    "x1_dot, x2_dot = me.dynamicsymbols('x1_dot x2_dot')\n",
    "\n",
    "theta, theta_dot = me.dynamicsymbols('theta theta_dot')\n",
    "phi, phi_dot = me.dynamicsymbols('phi phi_dot')\n",
    "\n",
    "L1, L2, L3, M, m1, m2, t, g, I = sympy.symbols('L_1 L_2 L_3 M m_1 m_2 t g I')\n",
    "B = A.orientnew('B', 'Axis', [theta, A.y])\n",
    "C = A.orientnew('C', 'Axis', [phi, A.y])\n",
    "B.set_ang_vel(A, theta_dot * A.y)\n",
    "C.set_ang_vel(A, phi_dot * A.y)"
   ]
  },
  {
   "cell_type": "code",
   "execution_count": 97,
   "metadata": {
    "collapsed": false
   },
   "outputs": [
    {
     "data": {
      "image/png": "[encoded data removed]",
      "text/latex": [
       "$$(x_{1dot} + x_{2dot})\\mathbf{\\hat{a}_x}$$"
      ],
      "text/plain": [
       "(x_1_dot(t) + x_2_dot(t)) a_x"
      ]
     },
     "execution_count": 97,
     "metadata": {},
     "output_type": "execute_result"
    }
   ],
   "source": [
    "# Create the Origin\n",
    "Origin = me.Point('Origin')\n",
    "Origin.set_pos(Origin, 0)\n",
    "Origin.set_vel(A, 0)\n",
    "\n",
    "# Create the Trolley Points\n",
    "P1 = me.Point('P1')\n",
    "P2 = me.Point('P2')\n",
    "\n",
    "# Set the Trolley Points Positions\n",
    "P1.set_pos(Origin, x1 * A.x)\n",
    "P2.set_pos(Origin, x2 * A.x)\n",
    "\n",
    "# Set the Velocity of the Trolley Points\n",
    "P1.set_vel(A, x1_dot * A.x)\n",
    "P2.set_vel(A, x2_dot * A.x)\n",
    "\n",
    "# Create the hook points\n",
    "P3 = me.Point('P3')\n",
    "P4 = me.Point('P4')\n",
    "G = me.Point('G')\n",
    "\n",
    "# Set the hook point positions\n",
    "P3.set_pos(P1, L1 * B.z)\n",
    "P4.set_pos(P2, L2 * C.z)\n",
    "\n",
    "vector = P4.pos_from(P3)\n",
    "angle = sympy.acos(me.dot(vector, A.x) / L3)\n",
    "D = A.orientnew('D', 'Axis', [angle, A.y])\n",
    "\n",
    "P4.set_pos(P3, L3 * D.x)\n",
    "G.set_pos(P3, (L3/2) * D.x)\n",
    "\n",
    "P3.v2pt_theory(P1, A, B)\n",
    "P4.v2pt_theory(P2, A, C)\n",
    "\n",
    "G.set_vel(A, P3.vel(A) + P4.vel(A))\n",
    "\n",
    "G.vel(A).express(A).subs({L1:1,L2:1,theta:0,phi:0,theta_dot:0,phi_dot:0,\n",
    "                                        L3:1,x1:0,x2:1})"
   ]
  },
  {
   "cell_type": "code",
   "execution_count": 98,
   "metadata": {
    "collapsed": false
   },
   "outputs": [],
   "source": [
    "# angle.subs({L1:12,L2:12,x1:0, x2:1, theta:0.7, phi:0.7,L3:1})\n",
    "# G.pos_from(P4).express(A).subs({L1:1,L2:1,x1:0, x2:1, \n",
    "#                            theta:0.7, phi:0.7,L3:1}).simplify().magnitude()"
   ]
  },
  {
   "cell_type": "code",
   "execution_count": 99,
   "metadata": {
    "collapsed": true
   },
   "outputs": [],
   "source": [
    "# Set up the kinematic differential equations\n",
    "kde = [x1_dot - x1.diff(t),\n",
    "       x2_dot - x2.diff(t),\n",
    "       theta_dot - theta.diff(t),\n",
    "       phi_dot - phi.diff(t)]\n",
    "\n",
    "# Create the Particles\n",
    "cart1 = me.Particle('cart1', P1, 100)\n",
    "cart2 = me.Particle('cart2', P2, 100)\n",
    "MH1 = me.Particle('M_H1', P3, m1)\n",
    "MH2 = me.Particle('M_H2', P4, m2)\n",
    "\n",
    "# Create the plate inertial tensor\n",
    "I_plate = me.inertia(A, 0, I, 0)\n",
    "inertia_plate = (I_plate, G)\n",
    "\n",
    "# Create the Rigid Bodies\n",
    "Payload = me.RigidBody('Payload', G, D, M, inertia_plate)"
   ]
  },
  {
   "cell_type": "code",
   "execution_count": 100,
   "metadata": {
    "collapsed": true
   },
   "outputs": [],
   "source": [
    "grav1 = (P3, m1 * g * A.z)\n",
    "grav2 = (P4, m2 * g * A.z)\n",
    "grav3 = (G, M * g * A.z)\n",
    "\n",
    "hook1 = (P3, -100 * (L3 - (x2-x1)) * D.x)\n",
    "hook2 = (P4,  100 * (L3 - (x2-x1)) * D.x)\n",
    "\n",
    "cart_force1 = (P1, f1 * A.x)\n",
    "cart_force2 = (P2, f2 * A.x)\n",
    "\n",
    "loads = [grav1,\n",
    "         grav2,\n",
    "#          hook1,\n",
    "#          hook2]\n",
    "         grav3]\n",
    "#          cart_force1,\n",
    "#          cart_force2]"
   ]
  },
  {
   "cell_type": "code",
   "execution_count": 101,
   "metadata": {
    "collapsed": false
   },
   "outputs": [],
   "source": [
    "# Setting up the coordinates, speeds, and creating KanesMethod\n",
    "coordinates = [x1, x2, theta, phi]\n",
    "speeds = [x1_dot, x2_dot, theta_dot, phi_dot]\n",
    "kane = me.KanesMethod(A, coordinates, speeds, kde)\n",
    "\n",
    "# Creating Fr and Fr_star\n",
    "fr, frstar = kane.kanes_equations(loads, [cart1, cart2, MH1, MH2, Payload])\n",
    "\n",
    "# Creating the PyDy System\n",
    "sys = System(kane)  "
   ]
  },
  {
   "cell_type": "code",
   "execution_count": 102,
   "metadata": {
    "collapsed": false
   },
   "outputs": [],
   "source": [
    "sys.constants = {m1: 7.65,\n",
    "                 m2: 7.65,\n",
    "                 M: 2.3,\n",
    "                 g: 9.81,\n",
    "                 L1: 1,\n",
    "                 L2: 1,\n",
    "                 L3: 3,\n",
    "                 I: 0.8}\n",
    "\n",
    "sys.initial_conditions = {x1:0,\n",
    "                          x2:3,\n",
    "                          theta:0.7,\n",
    "                          phi: 0.7,\n",
    "                          x1_dot:0,\n",
    "                          x2_dot:0,\n",
    "                          theta_dot:0,\n",
    "                          phi_dot: 0}\n",
    "# sys.specifieds={f1: lambda y, t:shaping.bang_bang(t,0.1,1,1,1),\n",
    "#                 f2: lambda y2, t:shaping.bang_bang(t,0.1,1,1,1)}\n",
    "sys.times = np.linspace(0.0, 10, 10*30)\n",
    "sys.generate_ode_function(generator='cython')\n",
    "resp = sys.integrate()"
   ]
  },
  {
   "cell_type": "code",
   "execution_count": 106,
   "metadata": {
    "collapsed": false
   },
   "outputs": [
    {
     "data": {
      "text/plain": [
       "[<matplotlib.lines.Line2D at 0x115db2ef0>]"
      ]
     },
     "execution_count": 106,
     "metadata": {},
     "output_type": "execute_result"
    },
    {
     "data": {
      "image/png": "[encoded data removed]",
      "text/plain": [
       "<matplotlib.figure.Figure at 0x115d73080>"
      ]
     },
     "metadata": {
      "image/png": {
       "height": 283,
       "width": 417
      }
     },
     "output_type": "display_data"
    }
   ],
   "source": [
    "plt.plot(resp[:,0])\n",
    "# plt.xlim(0,2)\n",
    "# plt.ylim(-2,0)\n",
    "# plt.plot(sys.times, resp[:,1])"
   ]
  },
  {
   "cell_type": "code",
   "execution_count": null,
   "metadata": {
    "collapsed": false
   },
   "outputs": [],
   "source": [
    "init_printing(False)\n",
    "P3.pos_from(Origin).express(A)"
   ]
  },
  {
   "cell_type": "code",
   "execution_count": null,
   "metadata": {
    "collapsed": true
   },
   "outputs": [],
   "source": []
  }
 ],
 "metadata": {
  "kernelspec": {
   "display_name": "Python 3",
   "language": "python",
   "name": "python3"
  },
  "language_info": {
   "codemirror_mode": {
    "name": "ipython",
    "version": 3
   },
   "file_extension": ".py",
   "mimetype": "text/x-python",
   "name": "python",
   "nbconvert_exporter": "python",
   "pygments_lexer": "ipython3",
   "version": "3.5.2"
  }
 },
 "nbformat": 4,
 "nbformat_minor": 0
}
